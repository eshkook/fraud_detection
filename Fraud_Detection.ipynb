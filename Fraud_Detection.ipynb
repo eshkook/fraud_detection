{
 "cells": [
  {
   "cell_type": "markdown",
   "id": "e5373ccf",
   "metadata": {},
   "source": [
    "# Credit Card Fraud Detection\n",
    "\n",
    "It is important that credit card companies are able to recognize fraudulent credit card transactions so that customers are not charged for items that they did not purchase.\n",
    "\n",
    "The dataset contains transactions made by credit cards in September 2013 by European cardholders.\n",
    "This dataset presents transactions that occurred in two days, where we have 492 frauds out of 284,807 transactions. The dataset is highly unbalanced, the positive class (frauds) account for 0.172% of all transactions.\n",
    "\n",
    "It contains only numerical input variables which are the result of a PCA transformation. Unfortunately, due to confidentiality issues, we cannot provide the original features and more background information about the data. Features V1, V2, … V28 are the principal components obtained with PCA, the only features which have not been transformed with PCA are 'Time' and 'Amount'. Feature 'Time' contains the seconds elapsed between each transaction and the first transaction in the dataset. The feature 'Amount' is the transaction Amount. Feature 'Class' is the response variable and it takes value 1 in case of fraud and 0 otherwise.\n",
    "\n",
    "We will choose a model based on the precision and recall curve (and the area under it), which are more insightful metrics than accuracy in such an un-balanced dataset. "
   ]
  },
  {
   "cell_type": "code",
   "execution_count": 1,
   "id": "4cef5387",
   "metadata": {},
   "outputs": [
    {
     "data": {
      "text/plain": [
       "(284807, 31)"
      ]
     },
     "execution_count": 1,
     "metadata": {},
     "output_type": "execute_result"
    }
   ],
   "source": [
    "import pandas as pd\n",
    "\n",
    "df=pd.read_csv('creditcard.csv')\n",
    "\n",
    "df.shape"
   ]
  },
  {
   "cell_type": "markdown",
   "id": "448e82c5",
   "metadata": {},
   "source": [
    "# Splitting the data into training and test sets:"
   ]
  },
  {
   "cell_type": "code",
   "execution_count": 2,
   "id": "5a9f79f5",
   "metadata": {},
   "outputs": [],
   "source": [
    "from sklearn.model_selection import train_test_split\n",
    "\n",
    "df_train, df_test = train_test_split(df, test_size=0.2, random_state=42, stratify=df['Class'])"
   ]
  },
  {
   "cell_type": "markdown",
   "id": "77fdbc85",
   "metadata": {},
   "source": [
    "# Exploring the data:"
   ]
  },
  {
   "cell_type": "code",
   "execution_count": 3,
   "id": "d9e88d64",
   "metadata": {},
   "outputs": [
    {
     "data": {
      "text/html": [
       "<div>\n",
       "<style scoped>\n",
       "    .dataframe tbody tr th:only-of-type {\n",
       "        vertical-align: middle;\n",
       "    }\n",
       "\n",
       "    .dataframe tbody tr th {\n",
       "        vertical-align: top;\n",
       "    }\n",
       "\n",
       "    .dataframe thead th {\n",
       "        text-align: right;\n",
       "    }\n",
       "</style>\n",
       "<table border=\"1\" class=\"dataframe\">\n",
       "  <thead>\n",
       "    <tr style=\"text-align: right;\">\n",
       "      <th></th>\n",
       "      <th>Time</th>\n",
       "      <th>V1</th>\n",
       "      <th>V2</th>\n",
       "      <th>V3</th>\n",
       "      <th>V4</th>\n",
       "      <th>V5</th>\n",
       "      <th>V6</th>\n",
       "      <th>V7</th>\n",
       "      <th>V8</th>\n",
       "      <th>V9</th>\n",
       "      <th>...</th>\n",
       "      <th>V21</th>\n",
       "      <th>V22</th>\n",
       "      <th>V23</th>\n",
       "      <th>V24</th>\n",
       "      <th>V25</th>\n",
       "      <th>V26</th>\n",
       "      <th>V27</th>\n",
       "      <th>V28</th>\n",
       "      <th>Amount</th>\n",
       "      <th>Class</th>\n",
       "    </tr>\n",
       "  </thead>\n",
       "  <tbody>\n",
       "    <tr>\n",
       "      <th>265518</th>\n",
       "      <td>161919.0</td>\n",
       "      <td>1.946747</td>\n",
       "      <td>-0.752526</td>\n",
       "      <td>-1.355130</td>\n",
       "      <td>-0.661630</td>\n",
       "      <td>1.502822</td>\n",
       "      <td>4.024933</td>\n",
       "      <td>-1.479661</td>\n",
       "      <td>1.139880</td>\n",
       "      <td>1.406819</td>\n",
       "      <td>...</td>\n",
       "      <td>0.076197</td>\n",
       "      <td>0.297537</td>\n",
       "      <td>0.307915</td>\n",
       "      <td>0.690980</td>\n",
       "      <td>-0.350316</td>\n",
       "      <td>-0.388907</td>\n",
       "      <td>0.077641</td>\n",
       "      <td>-0.032248</td>\n",
       "      <td>7.32</td>\n",
       "      <td>0</td>\n",
       "    </tr>\n",
       "    <tr>\n",
       "      <th>180305</th>\n",
       "      <td>124477.0</td>\n",
       "      <td>2.035149</td>\n",
       "      <td>-0.048880</td>\n",
       "      <td>-3.058693</td>\n",
       "      <td>0.247945</td>\n",
       "      <td>2.943487</td>\n",
       "      <td>3.298697</td>\n",
       "      <td>-0.002192</td>\n",
       "      <td>0.674782</td>\n",
       "      <td>0.045826</td>\n",
       "      <td>...</td>\n",
       "      <td>0.038628</td>\n",
       "      <td>0.228197</td>\n",
       "      <td>0.035542</td>\n",
       "      <td>0.707090</td>\n",
       "      <td>0.512885</td>\n",
       "      <td>-0.471198</td>\n",
       "      <td>0.002520</td>\n",
       "      <td>-0.069002</td>\n",
       "      <td>2.99</td>\n",
       "      <td>0</td>\n",
       "    </tr>\n",
       "    <tr>\n",
       "      <th>42664</th>\n",
       "      <td>41191.0</td>\n",
       "      <td>-0.991920</td>\n",
       "      <td>0.603193</td>\n",
       "      <td>0.711976</td>\n",
       "      <td>-0.992425</td>\n",
       "      <td>-0.825838</td>\n",
       "      <td>1.956261</td>\n",
       "      <td>-2.212603</td>\n",
       "      <td>-5.037523</td>\n",
       "      <td>0.000772</td>\n",
       "      <td>...</td>\n",
       "      <td>-2.798352</td>\n",
       "      <td>0.109526</td>\n",
       "      <td>-0.436530</td>\n",
       "      <td>-0.932803</td>\n",
       "      <td>0.826684</td>\n",
       "      <td>0.913773</td>\n",
       "      <td>0.038049</td>\n",
       "      <td>0.185340</td>\n",
       "      <td>175.10</td>\n",
       "      <td>0</td>\n",
       "    </tr>\n",
       "  </tbody>\n",
       "</table>\n",
       "<p>3 rows × 31 columns</p>\n",
       "</div>"
      ],
      "text/plain": [
       "            Time        V1        V2        V3        V4        V5        V6  \\\n",
       "265518  161919.0  1.946747 -0.752526 -1.355130 -0.661630  1.502822  4.024933   \n",
       "180305  124477.0  2.035149 -0.048880 -3.058693  0.247945  2.943487  3.298697   \n",
       "42664    41191.0 -0.991920  0.603193  0.711976 -0.992425 -0.825838  1.956261   \n",
       "\n",
       "              V7        V8        V9  ...       V21       V22       V23  \\\n",
       "265518 -1.479661  1.139880  1.406819  ...  0.076197  0.297537  0.307915   \n",
       "180305 -0.002192  0.674782  0.045826  ...  0.038628  0.228197  0.035542   \n",
       "42664  -2.212603 -5.037523  0.000772  ... -2.798352  0.109526 -0.436530   \n",
       "\n",
       "             V24       V25       V26       V27       V28  Amount  Class  \n",
       "265518  0.690980 -0.350316 -0.388907  0.077641 -0.032248    7.32      0  \n",
       "180305  0.707090  0.512885 -0.471198  0.002520 -0.069002    2.99      0  \n",
       "42664  -0.932803  0.826684  0.913773  0.038049  0.185340  175.10      0  \n",
       "\n",
       "[3 rows x 31 columns]"
      ]
     },
     "execution_count": 3,
     "metadata": {},
     "output_type": "execute_result"
    }
   ],
   "source": [
    "df_train.head(3)"
   ]
  },
  {
   "cell_type": "code",
   "execution_count": 4,
   "id": "ea6f70b4",
   "metadata": {},
   "outputs": [
    {
     "name": "stdout",
     "output_type": "stream",
     "text": [
      "<class 'pandas.core.frame.DataFrame'>\n",
      "Int64Index: 227845 entries, 265518 to 17677\n",
      "Data columns (total 31 columns):\n",
      " #   Column  Non-Null Count   Dtype  \n",
      "---  ------  --------------   -----  \n",
      " 0   Time    227845 non-null  float64\n",
      " 1   V1      227845 non-null  float64\n",
      " 2   V2      227845 non-null  float64\n",
      " 3   V3      227845 non-null  float64\n",
      " 4   V4      227845 non-null  float64\n",
      " 5   V5      227845 non-null  float64\n",
      " 6   V6      227845 non-null  float64\n",
      " 7   V7      227845 non-null  float64\n",
      " 8   V8      227845 non-null  float64\n",
      " 9   V9      227845 non-null  float64\n",
      " 10  V10     227845 non-null  float64\n",
      " 11  V11     227845 non-null  float64\n",
      " 12  V12     227845 non-null  float64\n",
      " 13  V13     227845 non-null  float64\n",
      " 14  V14     227845 non-null  float64\n",
      " 15  V15     227845 non-null  float64\n",
      " 16  V16     227845 non-null  float64\n",
      " 17  V17     227845 non-null  float64\n",
      " 18  V18     227845 non-null  float64\n",
      " 19  V19     227845 non-null  float64\n",
      " 20  V20     227845 non-null  float64\n",
      " 21  V21     227845 non-null  float64\n",
      " 22  V22     227845 non-null  float64\n",
      " 23  V23     227845 non-null  float64\n",
      " 24  V24     227845 non-null  float64\n",
      " 25  V25     227845 non-null  float64\n",
      " 26  V26     227845 non-null  float64\n",
      " 27  V27     227845 non-null  float64\n",
      " 28  V28     227845 non-null  float64\n",
      " 29  Amount  227845 non-null  float64\n",
      " 30  Class   227845 non-null  int64  \n",
      "dtypes: float64(30), int64(1)\n",
      "memory usage: 55.6 MB\n"
     ]
    }
   ],
   "source": [
    "df_train.info()"
   ]
  },
  {
   "cell_type": "markdown",
   "id": "39eb55c7",
   "metadata": {},
   "source": [
    "## Plotting features' histograms:"
   ]
  },
  {
   "cell_type": "code",
   "execution_count": 5,
   "id": "50631c90",
   "metadata": {},
   "outputs": [
    {
     "data": {
      "image/png": "[encoded data removed]",
      "text/plain": [
       "<Figure size 1440x1080 with 36 Axes>"
      ]
     },
     "metadata": {
      "needs_background": "light"
     },
     "output_type": "display_data"
    }
   ],
   "source": [
    "import matplotlib.pyplot as plt\n",
    "\n",
    "df_train.hist(bins=50, figsize=(20,15))\n",
    "plt.show()"
   ]
  },
  {
   "cell_type": "markdown",
   "id": "cd740b3a",
   "metadata": {},
   "source": [
    "## Calculating correlations between the labels and the features:"
   ]
  },
  {
   "cell_type": "code",
   "execution_count": 6,
   "id": "ff2457f1",
   "metadata": {},
   "outputs": [
    {
     "data": {
      "text/plain": [
       "Class     1.000000\n",
       "V11       0.153709\n",
       "V4        0.135014\n",
       "V2        0.090586\n",
       "V21       0.035588\n",
       "V19       0.032380\n",
       "V8        0.020552\n",
       "V20       0.019385\n",
       "V27       0.016034\n",
       "V28       0.009810\n",
       "Amount    0.006211\n",
       "V26       0.004119\n",
       "V22       0.002926\n",
       "V25       0.001618\n",
       "V23      -0.004169\n",
       "V15      -0.005705\n",
       "V13      -0.005861\n",
       "V24      -0.007483\n",
       "Time     -0.010564\n",
       "V6       -0.043334\n",
       "V5       -0.093578\n",
       "V9       -0.098247\n",
       "V1       -0.100041\n",
       "V18      -0.108732\n",
       "V7       -0.186184\n",
       "V16      -0.193826\n",
       "V3       -0.194135\n",
       "V10      -0.217894\n",
       "V12      -0.259989\n",
       "V14      -0.301054\n",
       "V17      -0.321937\n",
       "Name: Class, dtype: float64"
      ]
     },
     "execution_count": 6,
     "metadata": {},
     "output_type": "execute_result"
    }
   ],
   "source": [
    "corr_matrix = df_train.corr()\n",
    "corr_matrix[\"Class\"].sort_values(ascending=False)"
   ]
  },
  {
   "cell_type": "markdown",
   "id": "185b4b20",
   "metadata": {},
   "source": [
    "# Data preparations:"
   ]
  },
  {
   "cell_type": "code",
   "execution_count": 7,
   "id": "21d6e347",
   "metadata": {},
   "outputs": [],
   "source": [
    "import numpy as np\n",
    "\n",
    "X_train=df_train.to_numpy()[:,:30]\n",
    "y_train=df_train['Class'].to_numpy()\n",
    "\n",
    "X_test=df_test.to_numpy()[:,:30]\n",
    "y_test=df_test['Class'].to_numpy()"
   ]
  },
  {
   "cell_type": "code",
   "execution_count": 8,
   "id": "604946ad",
   "metadata": {},
   "outputs": [],
   "source": [
    "def display_scores(scores):\n",
    "    print(\"Scores:\", scores)\n",
    "    print(\"Mean:\", scores.mean())\n",
    "    print(\"Standard deviation:\", scores.std())"
   ]
  },
  {
   "cell_type": "markdown",
   "id": "93510f9d",
   "metadata": {},
   "source": [
    "# Training an XGBoost model:\n",
    "\n",
    "We will apply early stopping with the 'aucpr' metric which is the area under the precision-recall curve, and when fine-tuning we will use the 'average_precision' scoring which is the same. \n",
    "\n",
    "Setting aside a validation set:"
   ]
  },
  {
   "cell_type": "code",
   "execution_count": 9,
   "id": "ae9766bb",
   "metadata": {},
   "outputs": [],
   "source": [
    "X_train_xgb, X_val_xgb, y_train_xgb, y_val_xgb = train_test_split(X_train, y_train, test_size=0.2, \n",
    "                                                                  random_state=42, stratify=y_train)"
   ]
  },
  {
   "cell_type": "markdown",
   "id": "0e6cb318",
   "metadata": {},
   "source": [
    "## Fine-tuning:"
   ]
  },
  {
   "cell_type": "code",
   "execution_count": 10,
   "id": "b0779edb",
   "metadata": {},
   "outputs": [
    {
     "data": {
      "text/plain": [
       "GridSearchCV(cv=5,\n",
       "             estimator=XGBClassifier(base_score=None, booster=None,\n",
       "                                     colsample_bylevel=None,\n",
       "                                     colsample_bynode=None,\n",
       "                                     colsample_bytree=None, gamma=None,\n",
       "                                     gpu_id=None, importance_type='gain',\n",
       "                                     interaction_constraints=None,\n",
       "                                     learning_rate=None, max_delta_step=None,\n",
       "                                     max_depth=None, min_child_weight=None,\n",
       "                                     missing=nan, monotone_constraints=None,\n",
       "                                     n_estimators=100, n_jobs=None,\n",
       "                                     num_parallel_tree=None,\n",
       "                                     objective='binary:logitraw',\n",
       "                                     random_state=42, reg_alpha=None,\n",
       "                                     reg_lambda=None, scale_pos_weight=None,\n",
       "                                     subsample=None, tree_method=None,\n",
       "                                     use_label_encoder=False,\n",
       "                                     validate_parameters=None, verbosity=None),\n",
       "             n_jobs=-1,\n",
       "             param_grid=[{'learning_rate': [0.2, 0.5, 0.7],\n",
       "                          'max_depth': [15, 20, 25]}],\n",
       "             return_train_score=True, scoring='average_precision')"
      ]
     },
     "execution_count": 10,
     "metadata": {},
     "output_type": "execute_result"
    }
   ],
   "source": [
    "from sklearn.model_selection import GridSearchCV\n",
    "import xgboost as xgb\n",
    "\n",
    "xgb_clf = xgb.XGBClassifier(n_estimators=100, objective='binary:logitraw', random_state=42, use_label_encoder=False) \n",
    "\n",
    "fit_params={'verbose': False,\n",
    "            'eval_metric': 'aucpr',\n",
    "            'eval_set': [(X_val_xgb, y_val_xgb)], \n",
    "            'early_stopping_rounds': 10}\n",
    "\n",
    "param_grid = [{'max_depth': [15, 20, 25], \n",
    "               'learning_rate': [0.2, 0.5, 0.7]}]\n",
    "\n",
    "grid_search = GridSearchCV(xgb_clf, param_grid, cv=5, scoring='average_precision', return_train_score=True, n_jobs=-1)\n",
    "grid_search.fit(X_train_xgb, y_train_xgb, **fit_params)"
   ]
  },
  {
   "cell_type": "code",
   "execution_count": 11,
   "id": "5d7dfa4f",
   "metadata": {},
   "outputs": [
    {
     "data": {
      "text/plain": [
       "{'learning_rate': 0.2, 'max_depth': 15}"
      ]
     },
     "execution_count": 11,
     "metadata": {},
     "output_type": "execute_result"
    }
   ],
   "source": [
    "grid_search.best_params_"
   ]
  },
  {
   "cell_type": "markdown",
   "id": "e6ba8331",
   "metadata": {},
   "source": [
    "## Plotting the Precision-Recall curve:\n",
    "\n",
    "first we want 'clean' predictions on the training set, using cross_val_predict:"
   ]
  },
  {
   "cell_type": "code",
   "execution_count": 12,
   "id": "80496af1",
   "metadata": {},
   "outputs": [],
   "source": [
    "from sklearn.model_selection import cross_val_predict\n",
    "\n",
    "xgb_clf_curve = xgb.XGBClassifier(max_depth=15, n_estimators=100, learning_rate=0.2, objective='binary:logitraw', \n",
    "                                  random_state=42, use_label_encoder=False) \n",
    "\n",
    "fit_params={'eval_metric': 'aucpr',\n",
    "            'eval_set': [(X_val_xgb, y_val_xgb)], \n",
    "            'early_stopping_rounds': 10}\n",
    "\n",
    "y_scores = cross_val_predict(xgb_clf_curve, X_train_xgb, y_train_xgb, cv=5, method=\"predict_proba\", \n",
    "                             fit_params=fit_params, n_jobs=-1)"
   ]
  },
  {
   "cell_type": "code",
   "execution_count": 13,
   "id": "a8698a7f",
   "metadata": {},
   "outputs": [],
   "source": [
    "y_scores=y_scores[:,1]"
   ]
  },
  {
   "cell_type": "markdown",
   "id": "146240ef",
   "metadata": {},
   "source": [
    "With these scores we compute precision and recall for all possible thresholds: "
   ]
  },
  {
   "cell_type": "code",
   "execution_count": 14,
   "id": "d9cbc4e3",
   "metadata": {},
   "outputs": [
    {
     "data": {
      "text/plain": [
       "((32863,), (32863,), (32862,))"
      ]
     },
     "execution_count": 14,
     "metadata": {},
     "output_type": "execute_result"
    }
   ],
   "source": [
    "from sklearn.metrics import precision_recall_curve\n",
    "\n",
    "precisions, recalls, thresholds = precision_recall_curve(y_train_xgb, y_scores)\n",
    "\n",
    "precisions.shape, recalls.shape, thresholds.shape"
   ]
  },
  {
   "cell_type": "code",
   "execution_count": 15,
   "id": "f44f0810",
   "metadata": {},
   "outputs": [],
   "source": [
    "precisions=precisions[:-1]\n",
    "recalls=recalls[:-1]"
   ]
  },
  {
   "cell_type": "code",
   "execution_count": 16,
   "id": "6749f5fd",
   "metadata": {},
   "outputs": [
    {
     "data": {
      "text/plain": [
       "((32862,), (32862,), (32862,))"
      ]
     },
     "execution_count": 16,
     "metadata": {},
     "output_type": "execute_result"
    }
   ],
   "source": [
    "precisions.shape, recalls.shape, thresholds.shape"
   ]
  },
  {
   "cell_type": "code",
   "execution_count": 17,
   "id": "c6298c71",
   "metadata": {},
   "outputs": [
    {
     "data": {
      "image/png": "[encoded data removed]",
      "text/plain": [
       "<Figure size 432x288 with 1 Axes>"
      ]
     },
     "metadata": {
      "needs_background": "light"
     },
     "output_type": "display_data"
    }
   ],
   "source": [
    "def plot_precision_vs_recall(precisions, recalls):\n",
    "    plt.plot(recalls, precisions, \"b--\")\n",
    "    plt.xlabel('Recall')\n",
    "    plt.ylabel('Precision')\n",
    "    plt.title('Precision vs Recall', fontdict={'fontname': 'Comic Sans MS', 'fontsize': 20})\n",
    "\n",
    "plot_precision_vs_recall(precisions, recalls)\n",
    "plt.show()"
   ]
  },
  {
   "cell_type": "markdown",
   "id": "1dfeca07",
   "metadata": {},
   "source": [
    "## Suggesting threshold alternatives:\n",
    "\n",
    "### Choosing the primary elbow in the PR curve:\n",
    "\n",
    "It makes the most sense, producing both high precision and high recall. Said elbow appears at recall value of 0.8. Hence:"
   ]
  },
  {
   "cell_type": "code",
   "execution_count": 18,
   "id": "a4a3f935",
   "metadata": {},
   "outputs": [
    {
     "data": {
      "text/plain": [
       "32591"
      ]
     },
     "execution_count": 18,
     "metadata": {},
     "output_type": "execute_result"
    }
   ],
   "source": [
    "np.where(recalls>=0.8)[0][-1]"
   ]
  },
  {
   "cell_type": "markdown",
   "id": "40c4a502",
   "metadata": {},
   "source": [
    "The precision and recall we receive are:"
   ]
  },
  {
   "cell_type": "code",
   "execution_count": 19,
   "id": "260054b1",
   "metadata": {},
   "outputs": [
    {
     "data": {
      "text/plain": [
       "(0.9197080291970803, 0.8)"
      ]
     },
     "execution_count": 19,
     "metadata": {},
     "output_type": "execute_result"
    }
   ],
   "source": [
    "precisions[32591], recalls[32591] "
   ]
  },
  {
   "cell_type": "markdown",
   "id": "f12564de",
   "metadata": {},
   "source": [
    "Looking at it on the PR curve - the red dot:"
   ]
  },
  {
   "cell_type": "code",
   "execution_count": 20,
   "id": "fab220b3",
   "metadata": {},
   "outputs": [
    {
     "data": {
      "image/png": "[encoded data removed]",
      "text/plain": [
       "<Figure size 432x288 with 1 Axes>"
      ]
     },
     "metadata": {
      "needs_background": "light"
     },
     "output_type": "display_data"
    }
   ],
   "source": [
    "def plot_precision_vs_recall(precisions, recalls):\n",
    "    plt.plot(recalls, precisions, \"b--\")\n",
    "    plt.xlabel('Recall')\n",
    "    plt.ylabel('Precision')\n",
    "    plt.title('Precision vs Recall', fontdict={'fontname': 'Comic Sans MS', 'fontsize': 20})\n",
    "    plt.plot(recalls[32591], precisions[32591], 'r^--', label='1222')\n",
    "\n",
    "plot_precision_vs_recall(precisions, recalls)\n",
    "plt.show()"
   ]
  },
  {
   "cell_type": "markdown",
   "id": "019e62c1",
   "metadata": {},
   "source": [
    "The corresponding threshold is:"
   ]
  },
  {
   "cell_type": "code",
   "execution_count": 21,
   "id": "dfeb5f3e",
   "metadata": {},
   "outputs": [
    {
     "data": {
      "text/plain": [
       "-0.47505212"
      ]
     },
     "execution_count": 21,
     "metadata": {},
     "output_type": "execute_result"
    }
   ],
   "source": [
    "thresholds[32591]"
   ]
  },
  {
   "cell_type": "markdown",
   "id": "4a2f1754",
   "metadata": {},
   "source": [
    "### Choosing the secondary elbow in the PR curve:\n",
    "\n",
    "If precision is vital we will take the 'smaller' elbow at recall value of 0.69: "
   ]
  },
  {
   "cell_type": "code",
   "execution_count": 22,
   "id": "ae2b8d75",
   "metadata": {},
   "outputs": [
    {
     "data": {
      "text/plain": [
       "32642"
      ]
     },
     "execution_count": 22,
     "metadata": {},
     "output_type": "execute_result"
    }
   ],
   "source": [
    "np.where(recalls>=0.69)[0][-1]"
   ]
  },
  {
   "cell_type": "markdown",
   "id": "f4631a4b",
   "metadata": {},
   "source": [
    "The precision and recall we receive are:"
   ]
  },
  {
   "cell_type": "code",
   "execution_count": 23,
   "id": "9a58fcd6",
   "metadata": {},
   "outputs": [
    {
     "data": {
      "text/plain": [
       "(0.9819819819819819, 0.692063492063492)"
      ]
     },
     "execution_count": 23,
     "metadata": {},
     "output_type": "execute_result"
    }
   ],
   "source": [
    "precisions[32642], recalls[32642] "
   ]
  },
  {
   "cell_type": "markdown",
   "id": "4c52b3b5",
   "metadata": {},
   "source": [
    "Looking at it on the PR curve - the red dot:"
   ]
  },
  {
   "cell_type": "code",
   "execution_count": 24,
   "id": "e07002ce",
   "metadata": {},
   "outputs": [
    {
     "data": {
      "image/png": "[encoded data removed]",
      "text/plain": [
       "<Figure size 432x288 with 1 Axes>"
      ]
     },
     "metadata": {
      "needs_background": "light"
     },
     "output_type": "display_data"
    }
   ],
   "source": [
    "def plot_precision_vs_recall(precisions, recalls):\n",
    "    plt.plot(recalls, precisions, \"b--\")\n",
    "    plt.xlabel('Recall')\n",
    "    plt.ylabel('Precision')\n",
    "    plt.title('Precision vs Recall', fontdict={'fontname': 'Comic Sans MS', 'fontsize': 20})\n",
    "    plt.plot(recalls[32642], precisions[32642], 'r^--', label='1222')\n",
    "\n",
    "plot_precision_vs_recall(precisions, recalls)\n",
    "plt.show()"
   ]
  },
  {
   "cell_type": "markdown",
   "id": "e8fedf81",
   "metadata": {},
   "source": [
    "The corresponding threshold is:"
   ]
  },
  {
   "cell_type": "code",
   "execution_count": 25,
   "id": "6b4f9092",
   "metadata": {},
   "outputs": [
    {
     "data": {
      "text/plain": [
       "2.6995952"
      ]
     },
     "execution_count": 25,
     "metadata": {},
     "output_type": "execute_result"
    }
   ],
   "source": [
    "thresholds[32642]"
   ]
  },
  {
   "cell_type": "markdown",
   "id": "1a27d507",
   "metadata": {},
   "source": [
    "For this project we go with option number 1, which is the primary elbow:"
   ]
  },
  {
   "cell_type": "code",
   "execution_count": 26,
   "id": "2e54a8eb",
   "metadata": {},
   "outputs": [],
   "source": [
    "model_threshold=-0.47505212"
   ]
  },
  {
   "cell_type": "markdown",
   "id": "4cccc424",
   "metadata": {},
   "source": [
    "## Final model training:"
   ]
  },
  {
   "cell_type": "code",
   "execution_count": 27,
   "id": "03e2098d",
   "metadata": {},
   "outputs": [
    {
     "data": {
      "text/plain": [
       "XGBClassifier(base_score=0.5, booster='gbtree', colsample_bylevel=1,\n",
       "              colsample_bynode=1, colsample_bytree=1, gamma=0, gpu_id=-1,\n",
       "              importance_type='gain', interaction_constraints='',\n",
       "              learning_rate=0.2, max_delta_step=0, max_depth=15,\n",
       "              min_child_weight=1, missing=nan, monotone_constraints='()',\n",
       "              n_estimators=100, n_jobs=12, num_parallel_tree=1,\n",
       "              objective='binary:logitraw', random_state=42, reg_alpha=0,\n",
       "              reg_lambda=1, scale_pos_weight=1, subsample=1,\n",
       "              tree_method='exact', use_label_encoder=False,\n",
       "              validate_parameters=1, verbosity=None)"
      ]
     },
     "execution_count": 27,
     "metadata": {},
     "output_type": "execute_result"
    }
   ],
   "source": [
    "xgb_clf = xgb.XGBClassifier(max_depth=15, learning_rate=0.3, n_estimators=100, objective='binary:logitraw', random_state=42, use_label_encoder=False) \n",
    "\n",
    "fit_params={'verbose': False,\n",
    "            'eval_metric': 'aucpr',\n",
    "            'eval_set': [(X_val_xgb, y_val_xgb)], \n",
    "            'early_stopping_rounds': 10}\n",
    "\n",
    "xgb_clf.fit(X_train_xgb, y_train_xgb, **fit_params)"
   ]
  },
  {
   "cell_type": "markdown",
   "id": "f9cef086",
   "metadata": {},
   "source": [
    "The predictions will be done the following way:"
   ]
  },
  {
   "cell_type": "code",
   "execution_count": 28,
   "id": "f11a48e5",
   "metadata": {},
   "outputs": [],
   "source": [
    "def xgb_predict(X, model, model_threshold):\n",
    "    return (model.predict_proba(X)[:,1] >= model_threshold)"
   ]
  },
  {
   "cell_type": "markdown",
   "id": "75cb30a7",
   "metadata": {},
   "source": [
    "Computing Precision, Recall and F1 score on the the validation set:"
   ]
  },
  {
   "cell_type": "code",
   "execution_count": 29,
   "id": "9f7492fa",
   "metadata": {},
   "outputs": [
    {
     "name": "stdout",
     "output_type": "stream",
     "text": [
      "Precision: 0.921875\n",
      "Recall: 0.7468354430379747\n",
      "F1 Score: 0.8251748251748252\n"
     ]
    }
   ],
   "source": [
    "from sklearn.metrics import recall_score, precision_score, f1_score\n",
    "\n",
    "y_val_pred=xgb_predict(X_val_xgb, xgb_clf, model_threshold)\n",
    "\n",
    "print(\"Precision:\", precision_score(y_val_xgb, y_val_pred))\n",
    "print(\"Recall:\", recall_score(y_val_xgb, y_val_pred))\n",
    "print(\"F1 Score:\", f1_score(y_val_xgb, y_val_pred))"
   ]
  },
  {
   "cell_type": "markdown",
   "id": "26be42c9",
   "metadata": {},
   "source": [
    "# Testing the model on the test set:\n",
    "\n",
    "Computing Precision, Recall and F1 score on the the test set:"
   ]
  },
  {
   "cell_type": "code",
   "execution_count": 30,
   "id": "7f0b0f93",
   "metadata": {},
   "outputs": [
    {
     "name": "stdout",
     "output_type": "stream",
     "text": [
      "Precision: 0.9032258064516129\n",
      "Recall: 0.8571428571428571\n",
      "F1 Score: 0.8795811518324608\n"
     ]
    }
   ],
   "source": [
    "y_test_pred=xgb_predict(X_test, xgb_clf, model_threshold)\n",
    "\n",
    "print(\"Precision:\", precision_score(y_test, y_test_pred))\n",
    "print(\"Recall:\", recall_score(y_test, y_test_pred))\n",
    "print(\"F1 Score:\", f1_score(y_test, y_test_pred))"
   ]
  }
 ],
 "metadata": {
  "kernelspec": {
   "display_name": "Python 3",
   "language": "python",
   "name": "python3"
  },
  "language_info": {
   "codemirror_mode": {
    "name": "ipython",
    "version": 3
   },
   "file_extension": ".py",
   "mimetype": "text/x-python",
   "name": "python",
   "nbconvert_exporter": "python",
   "pygments_lexer": "ipython3",
   "version": "3.8.8"
  }
 },
 "nbformat": 4,
 "nbformat_minor": 5
}
